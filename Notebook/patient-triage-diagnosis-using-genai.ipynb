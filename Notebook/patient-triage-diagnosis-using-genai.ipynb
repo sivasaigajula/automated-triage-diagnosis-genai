{
 "cells": [
  {
   "cell_type": "markdown",
   "id": "b953d948",
   "metadata": {
    "papermill": {
     "duration": 0.005749,
     "end_time": "2025-04-18T19:03:29.666718",
     "exception": false,
     "start_time": "2025-04-18T19:03:29.660969",
     "status": "completed"
    },
    "tags": []
   },
   "source": [
    "<h3>Patient Triage and Diagnosis System</h3>\n",
    "\n",
    "<a href=\"https://sivasaigajula.medium.com/automating-patient-triage-and-diagnosis-with-generative-ai-378b9db2d0cf\" target=\"_blank\">\n",
    "  <button style=\"\n",
    "    background-color: #c2fbd7;\n",
    "    border-radius: 100px;\n",
    "    box-shadow: rgba(44, 187, 99, .2) 0 -25px 18px -14px inset,\n",
    "                rgba(44, 187, 99, .15) 0 1px 2px,\n",
    "                rgba(44, 187, 99, .15) 0 2px 4px,\n",
    "                rgba(44, 187, 99, .15) 0 4px 8px,\n",
    "                rgba(44, 187, 99, .15) 0 8px 16px,\n",
    "                rgba(44, 187, 99, .15) 0 16px 32px;\n",
    "    color: green;\n",
    "    cursor: pointer;\n",
    "    display: inline-block;\n",
    "    font-family: CerebriSans-Regular,-apple-system,system-ui,Roboto,sans-serif;\n",
    "    padding: 7px 20px;\n",
    "    text-align: center;\n",
    "    text-decoration: none;\n",
    "    transition: all 250ms;\n",
    "    border: 0;\n",
    "    font-size: 16px;\n",
    "    user-select: none;\n",
    "    -webkit-user-select: none;\n",
    "    touch-action: manipulation;\n",
    "  \">\n",
    "    Medium Article\n",
    "  </button>\n",
    "</a>\n",
    "\n",
    "\n",
    "## Description\n",
    "**Patient Triage and Diagnosis System** to assist healthcare professionals. The system processes patient symptoms, vitals, and medical history to:\n",
    "- **Triage Patients**: Assigns a triage priority (Emergent, Urgent, Non-urgent) based on a scoring algorithm.\n",
    "- **Predict Cardiovascular Risk**: Estimates long-term cardiovascular risk using age, vitals, and history.\n",
    "- **Diagnose Conditions**: Generates structured diagnoses with confidence scores and recommended actions, grounded in real-time medical knowledge from the internet.\n",
    "- **Analyze Symptom Similarity**: Compares patient symptoms to known symptom sets, visualized in a styled chart.\n",
    "- **Track Patient History**: Maintains an Electronic Health Record (EHR) store.\n",
    "- **Support Multi-Language Output**: Provides results in languages like Spanish.\n",
    "- **Present Results**: Outputs a professional HTML/CSS-formatted report with a styled chart.\n",
    "\n",
    "The system uses generative AI to fetch medical knowledge dynamically, ensuring up-to-date diagnoses. It is suitable for clinical, research, or educational use.\n",
    "\n",
    "## GenAI Models Used\n",
    "1. **Gemini-2.0-Flash (google.genai)**:\n",
    "   - Handles function calling, structured JSON output, diagnosis generation, and translation.\n",
    "   - Chosen for its speed and versatility in text-based tasks.\n",
    "2. **Text-Embedding-004 (google.genai)**:\n",
    "   - Generates embeddings for medical documents, patient queries, and symptom similarity analysis.\n",
    "   - Optimized for semantic similarity and retrieval.\n",
    "3. **Google Search Tool (google.genai)**:\n",
    "   - Retrieves real-time medical knowledge from credible sources (`.edu`, `.gov`, `.org`).\n",
    "   - Enables dynamic, internet-based Retrieval Augmented Generation (RAG).\n",
    "\n",
    "## Flow Chart\n",
    "<img src=\"https://raw.githubusercontent.com/sivasaigajula/automated-triage-diagnosis-genai/refs/heads/main/Images/FlowChart.png\" alt=\"Flow Chart\" width=\"500\"/>\n",
    "\n",
    "## Sequence Diagram\n",
    "<img src=\"https://raw.githubusercontent.com/sivasaigajula/automated-triage-diagnosis-genai/refs/heads/main/Images/SequenceDiagram.png\" alt=\"Sequence Diagram\" />\n",
    "\n",
    "## Class Diagram\n",
    "<img src=\"https://raw.githubusercontent.com/sivasaigajula/automated-triage-diagnosis-genai/refs/heads/main/Images/ClassDiagram.png\" alt=\"Class Diagram\" width=\"500\"/>\n",
    "\n"
   ]
  },
  {
   "cell_type": "markdown",
   "id": "3a78a6e5",
   "metadata": {
    "papermill": {
     "duration": 0.004681,
     "end_time": "2025-04-18T19:03:29.676594",
     "exception": false,
     "start_time": "2025-04-18T19:03:29.671913",
     "status": "completed"
    },
    "tags": []
   },
   "source": [
    "## Import Libraries and Setup Logging\n",
    "\n",
    "This cell imports necessary Python libraries and configures logging for debugging and monitoring. Key libraries include:\n",
    "- **google.genai**: For interacting with Gemini models and embeddings.\n",
    "- **numpy, pandas**: For vector search and symptom similarity analysis.\n",
    "- **matplotlib**: For generating the symptom similarity chart.\n",
    "- **IPython.display**: For rendering HTML/CSS output in Jupyter.\n",
    "- **logging**: For tracking API calls and errors.\n",
    "\n",
    "Logging is set to `INFO` level to capture important events like API responses and fallbacks."
   ]
  },
  {
   "cell_type": "markdown",
   "id": "3339180a",
   "metadata": {
    "papermill": {
     "duration": 0.004573,
     "end_time": "2025-04-18T19:03:29.686042",
     "exception": false,
     "start_time": "2025-04-18T19:03:29.681469",
     "status": "completed"
    },
    "tags": []
   },
   "source": [
    "## Setup\n",
    "\n",
    "Install the Python SDK."
   ]
  },
  {
   "cell_type": "code",
   "execution_count": 1,
   "id": "b13586b2",
   "metadata": {
    "execution": {
     "iopub.execute_input": "2025-04-18T19:03:29.697760Z",
     "iopub.status.busy": "2025-04-18T19:03:29.696802Z",
     "iopub.status.idle": "2025-04-18T19:03:36.616660Z",
     "shell.execute_reply": "2025-04-18T19:03:36.615454Z"
    },
    "papermill": {
     "duration": 6.927952,
     "end_time": "2025-04-18T19:03:36.618862",
     "exception": false,
     "start_time": "2025-04-18T19:03:29.690910",
     "status": "completed"
    },
    "tags": []
   },
   "outputs": [
    {
     "name": "stdout",
     "output_type": "stream",
     "text": [
      "\u001b[33mWARNING: No matching packages\u001b[0m\u001b[33m\r\n",
      "\u001b[0mFiles removed: 0\r\n",
      "\u001b[2K   \u001b[90m━━━━━━━━━━━━━━━━━━━━━━━━━━━━━━━━━━━━━━━━\u001b[0m \u001b[32m144.7/144.7 kB\u001b[0m \u001b[31m4.4 MB/s\u001b[0m eta \u001b[36m0:00:00\u001b[0m\r\n",
      "\u001b[2K   \u001b[90m━━━━━━━━━━━━━━━━━━━━━━━━━━━━━━━━━━━━━━━━\u001b[0m \u001b[32m100.9/100.9 kB\u001b[0m \u001b[31m5.3 MB/s\u001b[0m eta \u001b[36m0:00:00\u001b[0m\r\n",
      "\u001b[?25h"
     ]
    }
   ],
   "source": [
    "!pip cache purge\n",
    "!pip install -U -q \"google-genai==1.7.0\""
   ]
  },
  {
   "cell_type": "code",
   "execution_count": 2,
   "id": "96b97239",
   "metadata": {
    "execution": {
     "iopub.execute_input": "2025-04-18T19:03:36.631367Z",
     "iopub.status.busy": "2025-04-18T19:03:36.630984Z",
     "iopub.status.idle": "2025-04-18T19:03:40.330573Z",
     "shell.execute_reply": "2025-04-18T19:03:40.329428Z"
    },
    "papermill": {
     "duration": 3.707545,
     "end_time": "2025-04-18T19:03:40.332034",
     "exception": false,
     "start_time": "2025-04-18T19:03:36.624489",
     "status": "completed"
    },
    "tags": []
   },
   "outputs": [
    {
     "data": {
      "text/plain": [
       "'1.7.0'"
      ]
     },
     "execution_count": 2,
     "metadata": {},
     "output_type": "execute_result"
    }
   ],
   "source": [
    "import google.genai as genai\n",
    "import google.genai.types as types\n",
    "from google.api_core import retry\n",
    "import json\n",
    "import numpy as np\n",
    "import pandas as pd\n",
    "from IPython.display import display, HTML, Markdown\n",
    "import matplotlib.pyplot as plt\n",
    "import io\n",
    "import base64\n",
    "from datetime import datetime\n",
    "import uuid\n",
    "import logging\n",
    "import re\n",
    "\n",
    "# Set up logging\n",
    "logging.basicConfig(level=logging.INFO)\n",
    "logger = logging.getLogger(__name__)\n",
    "\n",
    "genai.__version__"
   ]
  },
  {
   "cell_type": "markdown",
   "id": "821a225f",
   "metadata": {
    "papermill": {
     "duration": 0.004948,
     "end_time": "2025-04-18T19:03:40.342553",
     "exception": false,
     "start_time": "2025-04-18T19:03:40.337605",
     "status": "completed"
    },
    "tags": []
   },
   "source": [
    "### Set up your API key\n",
    "\n",
    "To run the following cell, your API key must be stored it in a [Kaggle secret](https://www.kaggle.com/discussions/product-feedback/114053) named `GOOGLE_API_KEY`.\n",
    "\n",
    "If you don't already have an API key, you can grab one from [AI Studio](https://aistudio.google.com/app/apikey). You can find [detailed instructions in the docs](https://ai.google.dev/gemini-api/docs/api-key).\n",
    "\n",
    "To make the key available through Kaggle secrets, choose `Secrets` from the `Add-ons` menu and follow the instructions to add your key or enable it for this notebook."
   ]
  },
  {
   "cell_type": "code",
   "execution_count": 3,
   "id": "492dd011",
   "metadata": {
    "execution": {
     "iopub.execute_input": "2025-04-18T19:03:40.354961Z",
     "iopub.status.busy": "2025-04-18T19:03:40.353969Z",
     "iopub.status.idle": "2025-04-18T19:03:40.821949Z",
     "shell.execute_reply": "2025-04-18T19:03:40.820909Z"
    },
    "papermill": {
     "duration": 0.476137,
     "end_time": "2025-04-18T19:03:40.823953",
     "exception": false,
     "start_time": "2025-04-18T19:03:40.347816",
     "status": "completed"
    },
    "tags": []
   },
   "outputs": [],
   "source": [
    "from kaggle_secrets import UserSecretsClient\n",
    "GOOGLE_API_KEY = UserSecretsClient().get_secret(\"GOOGLE_API_KEY\")\n",
    "client = genai.Client(api_key=GOOGLE_API_KEY)"
   ]
  },
  {
   "cell_type": "markdown",
   "id": "0cbdf6a9",
   "metadata": {
    "papermill": {
     "duration": 0.005064,
     "end_time": "2025-04-18T19:03:40.834634",
     "exception": false,
     "start_time": "2025-04-18T19:03:40.829570",
     "status": "completed"
    },
    "tags": []
   },
   "source": [
    "## Configure Retry Policy\n",
    "\n",
    "This cell sets up a retry policy for API calls to handle transient errors (e.g., rate limits, server issues). It defines a predicate (`is_retriable`) to retry on specific API errors (HTTP 429, 503) and applies it to the `generate_content` method of the Gemini model. This ensures robustness in API interactions."
   ]
  },
  {
   "cell_type": "code",
   "execution_count": 4,
   "id": "d14363d0",
   "metadata": {
    "execution": {
     "iopub.execute_input": "2025-04-18T19:03:40.846968Z",
     "iopub.status.busy": "2025-04-18T19:03:40.846203Z",
     "iopub.status.idle": "2025-04-18T19:03:40.851571Z",
     "shell.execute_reply": "2025-04-18T19:03:40.850682Z"
    },
    "papermill": {
     "duration": 0.01319,
     "end_time": "2025-04-18T19:03:40.853165",
     "exception": false,
     "start_time": "2025-04-18T19:03:40.839975",
     "status": "completed"
    },
    "tags": []
   },
   "outputs": [],
   "source": [
    "# Configure retry policy\n",
    "is_retriable = lambda e: (isinstance(e, genai.errors.APIError) and e.code in {429, 503})\n",
    "genai.models.Models.generate_content = retry.Retry(predicate=is_retriable)(genai.models.Models.generate_content)"
   ]
  },
  {
   "cell_type": "markdown",
   "id": "0546c43b",
   "metadata": {
    "papermill": {
     "duration": 0.005129,
     "end_time": "2025-04-18T19:03:40.863916",
     "exception": false,
     "start_time": "2025-04-18T19:03:40.858787",
     "status": "completed"
    },
    "tags": []
   },
   "source": [
    "## Define Triage and Risk Prediction Functions\n",
    "\n",
    "This cell defines two mock functions used in function calling:\n",
    "- **calculate_triage_score**: Computes a triage score based on symptoms (e.g., chest pain, shortness of breath), vitals (e.g., heart rate, blood pressure), and patient history (e.g., heart disease). Outputs a score and priority (Emergent, Urgent, Non-urgent).\n",
    "- **predict_cardiovascular_risk**: Estimates cardiovascular risk based on age, blood pressure, and hypertension history. Outputs a risk score and level (High, Moderate, Low).\n",
    "\n",
    "These functions are invoked by the Gemini model via function calling to support triage and risk assessment."
   ]
  },
  {
   "cell_type": "code",
   "execution_count": 5,
   "id": "b59d437b",
   "metadata": {
    "execution": {
     "iopub.execute_input": "2025-04-18T19:03:40.876763Z",
     "iopub.status.busy": "2025-04-18T19:03:40.875814Z",
     "iopub.status.idle": "2025-04-18T19:03:40.884546Z",
     "shell.execute_reply": "2025-04-18T19:03:40.883497Z"
    },
    "papermill": {
     "duration": 0.016878,
     "end_time": "2025-04-18T19:03:40.886423",
     "exception": false,
     "start_time": "2025-04-18T19:03:40.869545",
     "status": "completed"
    },
    "tags": []
   },
   "outputs": [],
   "source": [
    "# Mock Electronic Health Record (EHR) store\n",
    "ehr_store = {}\n",
    "\n",
    "# Mock function to calculate triage score\n",
    "def calculate_triage_score(symptoms: str, vitals: dict, patient_history: dict) -> dict:\n",
    "    score = 0\n",
    "    if \"chest pain\" in symptoms.lower():\n",
    "        score += 50\n",
    "    if \"shortness of breath\" in symptoms.lower():\n",
    "        score += 30\n",
    "    if vitals.get(\"heart_rate\", 0) > 100:\n",
    "        score += 20\n",
    "    if vitals.get(\"blood_pressure\", \"\").startswith(\"1\") and int(vitals.get(\"blood_pressure\", \"0/0\").split(\"/\")[0]) > 140:\n",
    "        score += 10\n",
    "    if patient_history.get(\"previous_conditions\", {}).get(\"heart_disease\", False):\n",
    "        score += 15\n",
    "    priority = \"Emergent\" if score > 70 else \"Urgent\" if score > 30 else \"Non-urgent\"\n",
    "    return {\"triage_score\": score, \"priority\": priority}\n",
    "\n",
    "# Mock function to predict cardiovascular risk\n",
    "def predict_cardiovascular_risk(age: int, vitals: dict, history: dict) -> dict:\n",
    "    risk_score = 0\n",
    "    if age > 40:\n",
    "        risk_score += 20\n",
    "    if vitals.get(\"blood_pressure\", \"\").startswith(\"1\") and int(vitals.get(\"blood_pressure\", \"0/0\").split(\"/\")[0]) > 140:\n",
    "        risk_score += 15\n",
    "    if history.get(\"previous_conditions\", {}).get(\"hypertension\", False):\n",
    "        risk_score += 10\n",
    "    risk_level = \"High\" if risk_score > 30 else \"Moderate\" if risk_score > 15 else \"Low\"\n",
    "    return {\"risk_score\": risk_score, \"risk_level\": risk_level}"
   ]
  },
  {
   "cell_type": "markdown",
   "id": "2787296c",
   "metadata": {
    "papermill": {
     "duration": 0.005521,
     "end_time": "2025-04-18T19:03:40.897976",
     "exception": false,
     "start_time": "2025-04-18T19:03:40.892455",
     "status": "completed"
    },
    "tags": []
   },
   "source": [
    "## Fetch Medical Knowledge from the Internet\n",
    "\n",
    "This cell defines the `fetch_medical_knowledge` function, which retrieves real-time medical information from the internet using the Google Search tool. Key features:\n",
    "- Queries credible sources (`.edu`, `.gov`, `.org`) based on patient symptoms.\n",
    "- Filters results to include medical keywords (e.g., \"diagnosis\", \"symptoms\") and sufficient length.\n",
    "- Limits content to 500 characters for efficiency.\n",
    "- Falls back to mock data if the search fails.\n",
    "\n",
    "This enables dynamic Retrieval Augmented Generation (RAG) with up-to-date medical knowledge."
   ]
  },
  {
   "cell_type": "code",
   "execution_count": 6,
   "id": "7e623a97",
   "metadata": {
    "execution": {
     "iopub.execute_input": "2025-04-18T19:03:40.909749Z",
     "iopub.status.busy": "2025-04-18T19:03:40.909430Z",
     "iopub.status.idle": "2025-04-18T19:03:40.918334Z",
     "shell.execute_reply": "2025-04-18T19:03:40.917461Z"
    },
    "papermill": {
     "duration": 0.016755,
     "end_time": "2025-04-18T19:03:40.919908",
     "exception": false,
     "start_time": "2025-04-18T19:03:40.903153",
     "status": "completed"
    },
    "tags": []
   },
   "outputs": [],
   "source": [
    "# Function to retrieve medical information from the internet\n",
    "def fetch_medical_knowledge(query: str, max_results: int = 5) -> list:\n",
    "    try:\n",
    "        # Configure Google Search tool\n",
    "        search_config = types.GenerateContentConfig(\n",
    "            tools=[types.Tool(google_search=types.GoogleSearch())]\n",
    "        )\n",
    "        search_query = f\"medical information on {query} site:*.edu | site:*.gov | site:*.org\"\n",
    "        response = client.models.generate_content(\n",
    "            model=\"gemini-2.0-flash\",\n",
    "            contents=search_query,\n",
    "            config=search_config\n",
    "        )\n",
    "        \n",
    "        # Extract search results\n",
    "        documents = []\n",
    "        for i, part in enumerate(response.candidates[0].content.parts):\n",
    "            if hasattr(part, 'inline_data') and part.inline_data:\n",
    "                content = part.inline_data.data\n",
    "                # Clean and filter content\n",
    "                content = re.sub(r'\\s+', ' ', content).strip()\n",
    "                if len(content) > 50 and any(keyword in content.lower() for keyword in ['diagnosis', 'symptoms', 'treatment']):\n",
    "                    documents.append({\n",
    "                        \"id\": i + 1,\n",
    "                        \"content\": content[:500]  # Limit length for efficiency\n",
    "                    })\n",
    "        \n",
    "        # Fallback mock data if no valid results\n",
    "        if not documents:\n",
    "            logger.warning(\"No valid search results, using fallback mock data\")\n",
    "            return [\n",
    "                {\"id\": 1, \"content\": \"Chest pain and shortness of breath may indicate myocardial infarction. Order ECG and troponin test.\"},\n",
    "                {\"id\": 2, \"content\": \"Pulmonary embolism presents with sudden dyspnea and chest pain. Consider CT pulmonary angiography.\"}\n",
    "            ]\n",
    "        \n",
    "        return documents[:max_results]\n",
    "    except Exception as e:\n",
    "        logger.error(f\"Error fetching medical knowledge: {str(e)}\")\n",
    "        # Fallback mock data\n",
    "        return [\n",
    "            {\"id\": 1, \"content\": \"Chest pain and shortness of breath may indicate myocardial infarction. Order ECG and troponin test.\"},\n",
    "            {\"id\": 2, \"content\": \"Pulmonary embolism presents with sudden dyspnea and chest pain. Consider CT pulmonary angiography.\"}\n",
    "        ]"
   ]
  },
  {
   "cell_type": "markdown",
   "id": "8c1a4e60",
   "metadata": {
    "papermill": {
     "duration": 0.005485,
     "end_time": "2025-04-18T19:03:40.931072",
     "exception": false,
     "start_time": "2025-04-18T19:03:40.925587",
     "status": "completed"
    },
    "tags": []
   },
   "source": [
    "## Vector Search and Embedding Functions\n",
    "\n",
    "This cell defines functions for embedding and vector search, enabling RAG and symptom similarity analysis:\n",
    "- **embed_documents**: Generates embeddings for medical documents or symptom texts using the `text-embedding-004` model.\n",
    "- **vector_search**: Performs cosine similarity-based search to retrieve the top-k most relevant documents for a query.\n",
    "\n",
    "These functions support the vector store and similarity analysis, leveraging embeddings for semantic matching."
   ]
  },
  {
   "cell_type": "code",
   "execution_count": 7,
   "id": "cc7f42fa",
   "metadata": {
    "execution": {
     "iopub.execute_input": "2025-04-18T19:03:40.943034Z",
     "iopub.status.busy": "2025-04-18T19:03:40.942706Z",
     "iopub.status.idle": "2025-04-18T19:03:40.950280Z",
     "shell.execute_reply": "2025-04-18T19:03:40.949475Z"
    },
    "papermill": {
     "duration": 0.015667,
     "end_time": "2025-04-18T19:03:40.951999",
     "exception": false,
     "start_time": "2025-04-18T19:03:40.936332",
     "status": "completed"
    },
    "tags": []
   },
   "outputs": [],
   "source": [
    "# Generate embeddings for medical documents\n",
    "def embed_documents(docs):\n",
    "    response = client.models.embed_content(\n",
    "        model=\"models/text-embedding-004\",\n",
    "        contents=[doc[\"content\"] for doc in docs],\n",
    "        config=types.EmbedContentConfig(task_type=\"retrieval_document\")\n",
    "    )\n",
    "    return [{\"id\": doc[\"id\"], \"content\": doc[\"content\"], \"embedding\": emb.values} for doc, emb in zip(docs, response.embeddings)]\n",
    "\n",
    "# Vector search function\n",
    "def vector_search(query, docs_with_embeddings, top_k=3):\n",
    "    query_response = client.models.embed_content(\n",
    "        model=\"models/text-embedding-004\",\n",
    "        contents=[query],\n",
    "        config=types.EmbedContentConfig(task_type=\"retrieval_query\")\n",
    "    )\n",
    "    query_embedding = query_response.embeddings[0].values\n",
    "    similarities = [\n",
    "        np.dot(query_embedding, doc[\"embedding\"]) / (np.linalg.norm(query_embedding) * np.linalg.norm(doc[\"embedding\"]))\n",
    "        for doc in docs_with_embeddings\n",
    "    ]\n",
    "    top_indices = np.argsort(similarities)[::-1][:top_k]\n",
    "    return [docs_with_embeddings[i] for i in top_indices]"
   ]
  },
  {
   "cell_type": "markdown",
   "id": "a64caf9b",
   "metadata": {
    "papermill": {
     "duration": 0.005126,
     "end_time": "2025-04-18T19:03:40.962716",
     "exception": false,
     "start_time": "2025-04-18T19:03:40.957590",
     "status": "completed"
    },
    "tags": []
   },
   "source": [
    "## Translation Function\n",
    "\n",
    "This cell defines the `translate_text` function, which uses the Gemini model to translate the diagnosis output into a user-specified language (e.g., Spanish). This supports multi-language accessibility, making the system usable in diverse clinical settings."
   ]
  },
  {
   "cell_type": "code",
   "execution_count": 8,
   "id": "4f1dfe0d",
   "metadata": {
    "execution": {
     "iopub.execute_input": "2025-04-18T19:03:40.974547Z",
     "iopub.status.busy": "2025-04-18T19:03:40.974160Z",
     "iopub.status.idle": "2025-04-18T19:03:40.979494Z",
     "shell.execute_reply": "2025-04-18T19:03:40.978593Z"
    },
    "papermill": {
     "duration": 0.013506,
     "end_time": "2025-04-18T19:03:40.981447",
     "exception": false,
     "start_time": "2025-04-18T19:03:40.967941",
     "status": "completed"
    },
    "tags": []
   },
   "outputs": [],
   "source": [
    "# Translate text to target language\n",
    "def translate_text(text: str, target_language: str) -> str:\n",
    "    response = client.models.generate_content(\n",
    "        model=\"gemini-2.0-flash\",\n",
    "        contents=f\"Translate the following to {target_language}: {text}\"\n",
    "    )\n",
    "    return response.candidates[0].content.parts[0].text"
   ]
  },
  {
   "cell_type": "markdown",
   "id": "0c60b128",
   "metadata": {
    "papermill": {
     "duration": 0.005181,
     "end_time": "2025-04-18T19:03:40.992146",
     "exception": false,
     "start_time": "2025-04-18T19:03:40.986965",
     "status": "completed"
    },
    "tags": []
   },
   "source": [
    "## Configure Function Calling\n",
    "\n",
    "This cell defines the `function_config` for function calling, specifying two functions:\n",
    "- **calculate_triage_score**: Schema for triage scoring based on symptoms, vitals, and history.\n",
    "- **predict_cardiovascular_risk**: Schema for risk prediction based on age, vitals, and history.\n",
    "\n",
    "The configuration is used by the Gemini model to dynamically invoke these functions during processing."
   ]
  },
  {
   "cell_type": "code",
   "execution_count": 9,
   "id": "d8226f80",
   "metadata": {
    "execution": {
     "iopub.execute_input": "2025-04-18T19:03:41.004337Z",
     "iopub.status.busy": "2025-04-18T19:03:41.004024Z",
     "iopub.status.idle": "2025-04-18T19:03:41.011680Z",
     "shell.execute_reply": "2025-04-18T19:03:41.010606Z"
    },
    "papermill": {
     "duration": 0.015787,
     "end_time": "2025-04-18T19:03:41.013240",
     "exception": false,
     "start_time": "2025-04-18T19:03:40.997453",
     "status": "completed"
    },
    "tags": []
   },
   "outputs": [],
   "source": [
    "# Configure function calling\n",
    "function_config = types.GenerateContentConfig(\n",
    "    tools=[types.Tool(function_declarations=[\n",
    "        types.FunctionDeclaration(\n",
    "            name=\"calculate_triage_score\",\n",
    "            description=\"Calculate triage score based on symptoms, vitals, and patient history\",\n",
    "            parameters={\n",
    "                \"type\": \"object\",\n",
    "                \"properties\": {\n",
    "                    \"symptoms\": {\"type\": \"string\"},\n",
    "                    \"vitals\": {\n",
    "                        \"type\": \"object\",\n",
    "                        \"properties\": {\n",
    "                            \"heart_rate\": {\"type\": \"number\"},\n",
    "                            \"blood_pressure\": {\"type\": \"string\"}\n",
    "                        }\n",
    "                    },\n",
    "                    \"patient_history\": {\n",
    "                        \"type\": \"object\",\n",
    "                        \"properties\": {\n",
    "                            \"previous_conditions\": {\n",
    "                                \"type\": \"object\",\n",
    "                                \"properties\": {\n",
    "                                    \"heart_disease\": {\"type\": \"boolean\"},\n",
    "                                    \"hypertension\": {\"type\": \"boolean\"}\n",
    "                                }\n",
    "                            }\n",
    "                        }\n",
    "                    }\n",
    "                }\n",
    "            }\n",
    "        ),\n",
    "        types.FunctionDeclaration(\n",
    "            name=\"predict_cardiovascular_risk\",\n",
    "            description=\"Predict cardiovascular risk based on age, vitals, and history\",\n",
    "            parameters={\n",
    "                \"type\": \"object\",\n",
    "                \"properties\": {\n",
    "                    \"age\": {\"type\": \"number\"},\n",
    "                    \"vitals\": {\n",
    "                        \"type\": \"object\",\n",
    "                        \"properties\": {\n",
    "                            \"blood_pressure\": {\"type\": \"string\"}\n",
    "                        }\n",
    "                    },\n",
    "                    \"history\": {\n",
    "                        \"type\": \"object\",\n",
    "                        \"properties\": {\n",
    "                            \"previous_conditions\": {\n",
    "                                \"type\": \"object\",\n",
    "                                \"properties\": {\n",
    "                                    \"hypertension\": {\"type\": \"boolean\"}\n",
    "                                }\n",
    "                            }\n",
    "                        }\n",
    "                    }\n",
    "                }\n",
    "            }\n",
    "        )\n",
    "    ])]\n",
    ")"
   ]
  },
  {
   "cell_type": "markdown",
   "id": "dec1f462",
   "metadata": {
    "papermill": {
     "duration": 0.005621,
     "end_time": "2025-04-18T19:03:41.024534",
     "exception": false,
     "start_time": "2025-04-18T19:03:41.018913",
     "status": "completed"
    },
    "tags": []
   },
   "source": [
    "## Define Diagnosis Schema\n",
    "\n",
    "This cell defines the `diagnosis_schema`, a JSON schema for structured output. It specifies fields like `patient_id`, `triage_priority`, `cardiovascular_risk`, `diagnoses`, `recommended_actions`, `retrieved_context`, and `timestamp`. This schema ensures consistent, machine-readable diagnosis outputs."
   ]
  },
  {
   "cell_type": "code",
   "execution_count": 10,
   "id": "6852b8a7",
   "metadata": {
    "execution": {
     "iopub.execute_input": "2025-04-18T19:03:41.036622Z",
     "iopub.status.busy": "2025-04-18T19:03:41.036282Z",
     "iopub.status.idle": "2025-04-18T19:03:41.042161Z",
     "shell.execute_reply": "2025-04-18T19:03:41.041442Z"
    },
    "papermill": {
     "duration": 0.013755,
     "end_time": "2025-04-18T19:03:41.043656",
     "exception": false,
     "start_time": "2025-04-18T19:03:41.029901",
     "status": "completed"
    },
    "tags": []
   },
   "outputs": [],
   "source": [
    "# Structured output schema\n",
    "diagnosis_schema = {\n",
    "    \"type\": \"object\",\n",
    "    \"properties\": {\n",
    "        \"patient_id\": {\"type\": \"string\"},\n",
    "        \"triage_priority\": {\"type\": \"string\"},\n",
    "        \"cardiovascular_risk\": {\n",
    "            \"type\": \"object\",\n",
    "            \"properties\": {\n",
    "                \"risk_score\": {\"type\": \"number\"},\n",
    "                \"risk_level\": {\"type\": \"string\"}\n",
    "            }\n",
    "        },\n",
    "        \"diagnoses\": {\n",
    "            \"type\": \"array\",\n",
    "            \"items\": {\n",
    "                \"type\": \"object\",\n",
    "                \"properties\": {\n",
    "                    \"condition\": {\"type\": \"string\"},\n",
    "                    \"confidence\": {\"type\": \"number\"}\n",
    "                }\n",
    "            }\n",
    "        },\n",
    "        \"recommended_actions\": {\"type\": \"array\", \"items\": {\"type\": \"string\"}},\n",
    "        \"retrieved_context\": {\"type\": \"array\", \"items\": {\"type\": \"string\"}},\n",
    "        \"timestamp\": {\"type\": \"string\"}\n",
    "    }\n",
    "}"
   ]
  },
  {
   "cell_type": "markdown",
   "id": "c808a746",
   "metadata": {
    "papermill": {
     "duration": 0.005224,
     "end_time": "2025-04-18T19:03:41.054211",
     "exception": false,
     "start_time": "2025-04-18T19:03:41.048987",
     "status": "completed"
    },
    "tags": []
   },
   "source": [
    "## Generate Symptom Similarity Chart\n",
    "\n",
    "This cell defines the `visualize_symptom_similarity` function, which creates a styled Matplotlib chart comparing patient symptoms to known symptom sets. Key features:\n",
    "- Uses green bars (`#4CAF50`) for consistency with the HTML theme.\n",
    "- Includes grid lines and clear labels for readability.\n",
    "- Outputs a base64-encoded PNG for embedding in the HTML report."
   ]
  },
  {
   "cell_type": "code",
   "execution_count": 11,
   "id": "821215e1",
   "metadata": {
    "execution": {
     "iopub.execute_input": "2025-04-18T19:03:41.065955Z",
     "iopub.status.busy": "2025-04-18T19:03:41.065655Z",
     "iopub.status.idle": "2025-04-18T19:03:41.072094Z",
     "shell.execute_reply": "2025-04-18T19:03:41.071157Z"
    },
    "papermill": {
     "duration": 0.014133,
     "end_time": "2025-04-18T19:03:41.073660",
     "exception": false,
     "start_time": "2025-04-18T19:03:41.059527",
     "status": "completed"
    },
    "tags": []
   },
   "outputs": [],
   "source": [
    "# Visualize symptom similarity\n",
    "def visualize_symptom_similarity(sim_matrix, symptom_texts):\n",
    "    plt.figure(figsize=(8, 6))\n",
    "    plt.barh(symptom_texts, sim_matrix[\"chest pain, shortness of breath\"], color='#4CAF50')\n",
    "    plt.xlabel(\"Similarity Score\", fontsize=12)\n",
    "    plt.title(\"Symptom Similarity to 'Chest Pain, Shortness of Breath'\", fontsize=14, pad=10)\n",
    "    plt.grid(True, axis='x', linestyle='--', alpha=0.7)\n",
    "    plt.tight_layout()\n",
    "    \n",
    "    buf = io.BytesIO()\n",
    "    plt.savefig(buf, format=\"png\")\n",
    "    buf.seek(0)\n",
    "    img_str = base64.b64encode(buf.read()).decode(\"utf-8\")\n",
    "    plt.close()\n",
    "    return img_str"
   ]
  },
  {
   "cell_type": "markdown",
   "id": "a9ec5603",
   "metadata": {
    "papermill": {
     "duration": 0.005134,
     "end_time": "2025-04-18T19:03:41.084236",
     "exception": false,
     "start_time": "2025-04-18T19:03:41.079102",
     "status": "completed"
    },
    "tags": []
   },
   "source": [
    "## Generate HTML Output\n",
    "\n",
    "This cell defines the `generate_html_output` function, which creates a styled HTML report for the diagnosis, similarity analysis, chart, and EHR history. Key features:\n",
    "- **Layout**: Card-based design with sections for each output component.\n",
    "- **CSS**: Responsive design with a clean color scheme (blues and grays), shadows, and rounded corners.\n",
    "- **Table**: Displays similarity scores with zebra striping and blue headers.\n",
    "- **Chart**: Embeds the symptom similarity chart with a styled container (border, shadow, centered).\n"
   ]
  },
  {
   "cell_type": "code",
   "execution_count": 12,
   "id": "2da3cdf8",
   "metadata": {
    "execution": {
     "iopub.execute_input": "2025-04-18T19:03:41.096042Z",
     "iopub.status.busy": "2025-04-18T19:03:41.095745Z",
     "iopub.status.idle": "2025-04-18T19:03:41.102654Z",
     "shell.execute_reply": "2025-04-18T19:03:41.101794Z"
    },
    "papermill": {
     "duration": 0.014626,
     "end_time": "2025-04-18T19:03:41.104119",
     "exception": false,
     "start_time": "2025-04-18T19:03:41.089493",
     "status": "completed"
    },
    "tags": []
   },
   "outputs": [],
   "source": [
    "# Generate HTML output\n",
    "def generate_html_output(diagnosis, sim_series, img_str, ehr_history):\n",
    "    html_content = f\"\"\"\n",
    "    <!DOCTYPE html>\n",
    "    <html lang=\"en\">\n",
    "    <head>\n",
    "        <meta charset=\"UTF-8\">\n",
    "        <meta name=\"viewport\" content=\"width=device-width, initial-scale=1.0\">\n",
    "        <title>Patient Triage and Diagnosis Report</title>\n",
    "        <style>\n",
    "            body {{\n",
    "                font-family: 'Arial', sans-serif;\n",
    "                line-height: 1.6;\n",
    "                color: #333;\n",
    "                max-width: 900px;\n",
    "                margin: 0 auto;\n",
    "                padding: 20px;\n",
    "                background-color: #f4f4f4;\n",
    "            }}\n",
    "            h1 {{\n",
    "                color: #2c3e50;\n",
    "                text-align: center;\n",
    "                margin-bottom: 30px;\n",
    "            }}\n",
    "            .card {{\n",
    "                background: white;\n",
    "                border-radius: 8px;\n",
    "                box-shadow: 0 2px 4px rgba(0,0,0,0.1);\n",
    "                padding: 20px;\n",
    "                margin-bottom: 20px;\n",
    "            }}\n",
    "            h2 {{\n",
    "                color: #34495e;\n",
    "                border-bottom: 2px solid #3498db;\n",
    "                padding-bottom: 5px;\n",
    "                margin-bottom: 15px;\n",
    "            }}\n",
    "            pre {{\n",
    "                background: #f8f8f8;\n",
    "                padding: 15px;\n",
    "                border-radius: 5px;\n",
    "                overflow-x: auto;\n",
    "                font-size: 14px;\n",
    "            }}\n",
    "            .chart-container {{\n",
    "                text-align: center;\n",
    "                margin: 20px 0;\n",
    "            }}\n",
    "            .chart-container img {{\n",
    "                max-width: 100%;\n",
    "                border: 2px solid #3498db;\n",
    "                border-radius: 8px;\n",
    "                box-shadow: 0 4px 8px rgba(0,0,0,0.1);\n",
    "            }}\n",
    "            table {{\n",
    "                width: 100%;\n",
    "                border-collapse: collapse;\n",
    "                margin-top: 10px;\n",
    "            }}\n",
    "            th, td {{\n",
    "                padding: 10px;\n",
    "                text-align: left;\n",
    "                border-bottom: 1px solid #ddd;\n",
    "            }}\n",
    "            th {{\n",
    "                background-color: #3498db;\n",
    "                color: white;\n",
    "            }}\n",
    "            tr:nth-child(even) {{\n",
    "                background-color: #f2f2f2;\n",
    "            }}\n",
    "        </style>\n",
    "    </head>\n",
    "    <body>\n",
    "        <h1>Patient Triage and Diagnosis Report</h1>\n",
    "        \n",
    "        <div class=\"card\">\n",
    "            <h2>Patient Triage and Diagnosis Result</h2>\n",
    "            <pre>{json.dumps(diagnosis, indent=2)}</pre>\n",
    "        </div>\n",
    "        \n",
    "        <div class=\"card\">\n",
    "            <h2>Symptom Similarity Analysis</h2>\n",
    "            <table>\n",
    "                <tr><th>Symptom</th><th>Similarity Score</th></tr>\n",
    "                {''.join(f'<tr><td>{symptom}</td><td>{score:.4f}</td></tr>' for symptom, score in sim_series.items())}\n",
    "            </table>\n",
    "        </div>\n",
    "        \n",
    "        <div class=\"card\">\n",
    "            <h2>Symptom Similarity Visualization</h2>\n",
    "            <div class=\"chart-container\">\n",
    "                <img src=\"data:image/png;base64,{img_str}\" alt=\"Symptom Similarity Chart\">\n",
    "            </div>\n",
    "        </div>\n",
    "        \n",
    "        <div class=\"card\">\n",
    "            <h2>Patient EHR History</h2>\n",
    "            <pre>{json.dumps(ehr_history, indent=2)}</pre>\n",
    "        </div>\n",
    "    </body>\n",
    "    </html>\n",
    "    \"\"\"\n",
    "    return html_content"
   ]
  },
  {
   "cell_type": "markdown",
   "id": "5ddedc1c",
   "metadata": {
    "papermill": {
     "duration": 0.005359,
     "end_time": "2025-04-18T19:03:41.114992",
     "exception": false,
     "start_time": "2025-04-18T19:03:41.109633",
     "status": "completed"
    },
    "tags": []
   },
   "source": [
    "## Main Processing Function\n",
    "\n",
    "This cell defines the `process_patient_data` function, the core of the system. It:\n",
    "- Generates a unique patient ID if none is provided.\n",
    "- Retrieves or initializes patient history from the EHR store.\n",
    "- Fetches medical knowledge from the internet and performs vector search (RAG).\n",
    "- Invokes triage and risk prediction via function calling, with fallback logic.\n",
    "- Generates a structured diagnosis using the Gemini model and RAG context.\n",
    "- Translates the output if requested (e.g., to Spanish).\n",
    "- Computes symptom similarity and generates a chart.\n",
    "- Produces an HTML/CSS-formatted report.\n",
    "\n",
    "Returns both the JSON diagnosis and HTML output for display."
   ]
  },
  {
   "cell_type": "code",
   "execution_count": 13,
   "id": "f11e497e",
   "metadata": {
    "execution": {
     "iopub.execute_input": "2025-04-18T19:03:41.127082Z",
     "iopub.status.busy": "2025-04-18T19:03:41.126798Z",
     "iopub.status.idle": "2025-04-18T19:03:41.144423Z",
     "shell.execute_reply": "2025-04-18T19:03:41.143516Z"
    },
    "papermill": {
     "duration": 0.025557,
     "end_time": "2025-04-18T19:03:41.145922",
     "exception": false,
     "start_time": "2025-04-18T19:03:41.120365",
     "status": "completed"
    },
    "tags": []
   },
   "outputs": [],
   "source": [
    "# Main patient processing function\n",
    "def process_patient_data(patient_data: str, vitals: dict, age: int, patient_id: str = None, language: str = \"English\"):\n",
    "    # Generate patient ID if not provided\n",
    "    if not patient_id:\n",
    "        patient_id = str(uuid.uuid4())\n",
    "    \n",
    "    # Retrieve or initialize patient history from EHR\n",
    "    patient_history = ehr_store.get(patient_id, {\n",
    "        \"previous_conditions\": {\"heart_disease\": False, \"hypertension\": False},\n",
    "        \"encounters\": []\n",
    "    })\n",
    "    \n",
    "    # Step 1: Fetch medical knowledge from the internet and perform vector search (RAG)\n",
    "    medical_docs = fetch_medical_knowledge(patient_data)\n",
    "    docs_with_embeddings = embed_documents(medical_docs)\n",
    "    retrieved_docs = vector_search(patient_data, docs_with_embeddings)\n",
    "    context = [doc[\"content\"] for doc in retrieved_docs]\n",
    "    \n",
    "    # Step 2: Function calling for triage score and risk prediction\n",
    "    try:\n",
    "        triage_response = client.models.generate_content(\n",
    "            model=\"gemini-2.0-flash\",\n",
    "            contents=f\"Patient reports: {patient_data}, vitals: {vitals}, history: {patient_history}\",\n",
    "            config=function_config\n",
    "        )\n",
    "    except Exception as e:\n",
    "        logger.error(f\"Error in generate_content: {str(e)}\")\n",
    "        triage_response = None\n",
    "    \n",
    "    triage_result = None\n",
    "    risk_result = None\n",
    "    if triage_response and hasattr(triage_response, 'candidates') and triage_response.candidates:\n",
    "        # Log part attributes safely\n",
    "        parts_info = [\n",
    "            {\n",
    "                \"text\": getattr(part, 'text', None),\n",
    "                \"function_call\": {\n",
    "                    \"name\": part.function_call.name,\n",
    "                    \"args\": part.function_call.args\n",
    "                } if hasattr(part, 'function_call') and part.function_call else None\n",
    "            } for part in triage_response.candidates[0].content.parts\n",
    "        ]\n",
    "        logger.info(f\"Response parts: {parts_info}\")\n",
    "        \n",
    "        for part in triage_response.candidates[0].content.parts:\n",
    "            if hasattr(part, 'function_call') and part.function_call is not None:\n",
    "                func_call = part.function_call\n",
    "                if hasattr(func_call, 'name'):\n",
    "                    if func_call.name == \"calculate_triage_score\":\n",
    "                        args = func_call.args\n",
    "                        triage_result = calculate_triage_score(\n",
    "                            args.get(\"symptoms\", patient_data),\n",
    "                            args.get(\"vitals\", vitals),\n",
    "                            args.get(\"patient_history\", patient_history)\n",
    "                        )\n",
    "                    elif func_call.name == \"predict_cardiovascular_risk\":\n",
    "                        args = func_call.args\n",
    "                        risk_result = predict_cardiovascular_risk(\n",
    "                            args.get(\"age\", age),\n",
    "                            args.get(\"vitals\", vitals),\n",
    "                            args.get(\"history\", patient_history)\n",
    "                        )\n",
    "                else:\n",
    "                    logger.warning(\"Function call missing name attribute\")\n",
    "            else:\n",
    "                logger.warning(\"No function call in part\")\n",
    "    else:\n",
    "        logger.warning(\"No valid response or candidates found, using fallback\")\n",
    "    \n",
    "    # Fallback if no function call results\n",
    "    if not triage_result:\n",
    "        logger.info(\"Falling back to manual triage score calculation\")\n",
    "        triage_result = calculate_triage_score(patient_data, vitals, patient_history)\n",
    "    if not risk_result:\n",
    "        logger.info(\"Falling back to manual risk prediction\")\n",
    "        risk_result = predict_cardiovascular_risk(age, vitals, patient_history)\n",
    "    \n",
    "    # Step 3: Generate structured diagnosis with RAG context\n",
    "    try:\n",
    "        diagnosis_response = client.models.generate_content(\n",
    "            model=\"gemini-2.0-flash\",\n",
    "            contents=f\"Diagnose: {patient_data}. Context: {' '.join(context)}\",\n",
    "            config=types.GenerateContentConfig(\n",
    "                response_mime_type=\"application/json\",\n",
    "                response_schema=diagnosis_schema\n",
    "            )\n",
    "        )\n",
    "    except Exception as e:\n",
    "        logger.error(f\"Error in diagnosis generation: {str(e)}\")\n",
    "        diagnosis_response = None\n",
    "    \n",
    "    if diagnosis_response and diagnosis_response.text:\n",
    "        diagnosis_output = json.loads(diagnosis_response.text)\n",
    "    else:\n",
    "        logger.warning(\"No valid diagnosis response, using default output\")\n",
    "        diagnosis_output = {\n",
    "            \"patient_id\": patient_id,\n",
    "            \"triage_priority\": triage_result[\"priority\"],\n",
    "            \"cardiovascular_risk\": risk_result,\n",
    "            \"diagnoses\": [],\n",
    "            \"recommended_actions\": [],\n",
    "            \"retrieved_context\": context,\n",
    "            \"timestamp\": datetime.now().isoformat()\n",
    "        }\n",
    "    \n",
    "    # Enhance diagnosis output\n",
    "    diagnosis_output[\"patient_id\"] = patient_id\n",
    "    diagnosis_output[\"triage_priority\"] = triage_result[\"priority\"]\n",
    "    diagnosis_output[\"cardiovascular_risk\"] = risk_result\n",
    "    diagnosis_output[\"retrieved_context\"] = context\n",
    "    diagnosis_output[\"timestamp\"] = datetime.now().isoformat()\n",
    "    \n",
    "    # Translate output if requested\n",
    "    if language != \"English\":\n",
    "        diagnosis_output_str = json.dumps(diagnosis_output)\n",
    "        try:\n",
    "            translated_output = translate_text(diagnosis_output_str, language)\n",
    "            diagnosis_output = json.loads(translated_output)\n",
    "        except Exception as e:\n",
    "            logger.error(f\"Translation failed: {str(e)}\")\n",
    "    \n",
    "    # Update EHR\n",
    "    patient_history[\"encounters\"].append({\n",
    "        \"timestamp\": diagnosis_output[\"timestamp\"],\n",
    "        \"symptoms\": patient_data,\n",
    "        \"diagnosis\": diagnosis_output\n",
    "    })\n",
    "    ehr_store[patient_id] = patient_history\n",
    "    \n",
    "    # Generate symptom similarity matrix\n",
    "    symptom_texts = [\n",
    "        \"chest pain, shortness of breath\",\n",
    "        \"fever, cough\",\n",
    "        \"abdominal pain, nausea\",\n",
    "        \"chest pain, dyspnea, sweating\"\n",
    "    ]\n",
    "    response = client.models.embed_content(\n",
    "        model=\"models/text-embedding-004\",\n",
    "        contents=symptom_texts,\n",
    "        config=types.EmbedContentConfig(task_type=\"semantic_similarity\")\n",
    "    )\n",
    "    df = pd.DataFrame([e.values for e in response.embeddings], index=symptom_texts)\n",
    "    sim = df @ df.T\n",
    "    sim_series = sim[\"chest pain, shortness of breath\"].sort_values(ascending=False)\n",
    "    \n",
    "    # Generate chart\n",
    "    img_str = visualize_symptom_similarity(sim, symptom_texts)\n",
    "    \n",
    "    # Generate HTML output\n",
    "    html_output = generate_html_output(diagnosis_output, sim_series, img_str, ehr_store.get(patient_id, {}))\n",
    "    \n",
    "    return diagnosis_output, html_output"
   ]
  },
  {
   "cell_type": "markdown",
   "id": "523074df",
   "metadata": {
    "papermill": {
     "duration": 0.005184,
     "end_time": "2025-04-18T19:03:41.156610",
     "exception": false,
     "start_time": "2025-04-18T19:03:41.151426",
     "status": "completed"
    },
    "tags": []
   },
   "source": [
    "## Run Example and Display Output\n",
    "\n",
    "This cell runs an example case to demonstrate the system. It:\n",
    "- Defines sample patient data (symptoms, vitals, age, patient ID, language).\n",
    "- Calls `process_patient_data` to generate the diagnosis and HTML output.\n",
    "- Displays the HTML report using `IPython.display.HTML`, showing a styled webpage with diagnosis, similarity analysis, chart, and EHR history.\n",
    "- Optionally prints the raw JSON diagnosis for debugging.\n",
    "\n",
    "The example uses Spanish output to test multi-language support."
   ]
  },
  {
   "cell_type": "code",
   "execution_count": 14,
   "id": "8a8aadfa",
   "metadata": {
    "execution": {
     "iopub.execute_input": "2025-04-18T19:03:41.168545Z",
     "iopub.status.busy": "2025-04-18T19:03:41.168115Z",
     "iopub.status.idle": "2025-04-18T19:03:56.016073Z",
     "shell.execute_reply": "2025-04-18T19:03:56.015057Z"
    },
    "papermill": {
     "duration": 14.85606,
     "end_time": "2025-04-18T19:03:56.017974",
     "exception": false,
     "start_time": "2025-04-18T19:03:41.161914",
     "status": "completed"
    },
    "tags": []
   },
   "outputs": [
    {
     "data": {
      "text/html": [
       "\n",
       "    <!DOCTYPE html>\n",
       "    <html lang=\"en\">\n",
       "    <head>\n",
       "        <meta charset=\"UTF-8\">\n",
       "        <meta name=\"viewport\" content=\"width=device-width, initial-scale=1.0\">\n",
       "        <title>Patient Triage and Diagnosis Report</title>\n",
       "        <style>\n",
       "            body {\n",
       "                font-family: 'Arial', sans-serif;\n",
       "                line-height: 1.6;\n",
       "                color: #333;\n",
       "                max-width: 900px;\n",
       "                margin: 0 auto;\n",
       "                padding: 20px;\n",
       "                background-color: #f4f4f4;\n",
       "            }\n",
       "            h1 {\n",
       "                color: #2c3e50;\n",
       "                text-align: center;\n",
       "                margin-bottom: 30px;\n",
       "            }\n",
       "            .card {\n",
       "                background: white;\n",
       "                border-radius: 8px;\n",
       "                box-shadow: 0 2px 4px rgba(0,0,0,0.1);\n",
       "                padding: 20px;\n",
       "                margin-bottom: 20px;\n",
       "            }\n",
       "            h2 {\n",
       "                color: #34495e;\n",
       "                border-bottom: 2px solid #3498db;\n",
       "                padding-bottom: 5px;\n",
       "                margin-bottom: 15px;\n",
       "            }\n",
       "            pre {\n",
       "                background: #f8f8f8;\n",
       "                padding: 15px;\n",
       "                border-radius: 5px;\n",
       "                overflow-x: auto;\n",
       "                font-size: 14px;\n",
       "            }\n",
       "            .chart-container {\n",
       "                text-align: center;\n",
       "                margin: 20px 0;\n",
       "            }\n",
       "            .chart-container img {\n",
       "                max-width: 100%;\n",
       "                border: 2px solid #3498db;\n",
       "                border-radius: 8px;\n",
       "                box-shadow: 0 4px 8px rgba(0,0,0,0.1);\n",
       "            }\n",
       "            table {\n",
       "                width: 100%;\n",
       "                border-collapse: collapse;\n",
       "                margin-top: 10px;\n",
       "            }\n",
       "            th, td {\n",
       "                padding: 10px;\n",
       "                text-align: left;\n",
       "                border-bottom: 1px solid #ddd;\n",
       "            }\n",
       "            th {\n",
       "                background-color: #3498db;\n",
       "                color: white;\n",
       "            }\n",
       "            tr:nth-child(even) {\n",
       "                background-color: #f2f2f2;\n",
       "            }\n",
       "        </style>\n",
       "    </head>\n",
       "    <body>\n",
       "        <h1>Patient Triage and Diagnosis Report</h1>\n",
       "        \n",
       "        <div class=\"card\">\n",
       "            <h2>Patient Triage and Diagnosis Result</h2>\n",
       "            <pre>{\n",
       "  \"diagnoses\": [\n",
       "    {\n",
       "      \"condition\": \"Myocardial Infarction\",\n",
       "      \"confidence\": 0.7\n",
       "    },\n",
       "    {\n",
       "      \"condition\": \"Pulmonary Embolism\",\n",
       "      \"confidence\": 0.6\n",
       "    }\n",
       "  ],\n",
       "  \"recommended_actions\": [\n",
       "    \"Order ECG\",\n",
       "    \"Order Troponin test\",\n",
       "    \"Consider CT pulmonary angiography\"\n",
       "  ],\n",
       "  \"retrieved_context\": [\n",
       "    \"Chest pain and shortness of breath may indicate myocardial infarction. Order ECG and troponin test.\",\n",
       "    \"Pulmonary embolism presents with sudden dyspnea and chest pain. Consider CT pulmonary angiography.\"\n",
       "  ],\n",
       "  \"patient_id\": \"patient-001\",\n",
       "  \"triage_priority\": \"Emergent\",\n",
       "  \"cardiovascular_risk\": {\n",
       "    \"risk_score\": 0,\n",
       "    \"risk_level\": \"Low\"\n",
       "  },\n",
       "  \"timestamp\": \"2025-04-18T19:03:51.194597\"\n",
       "}</pre>\n",
       "        </div>\n",
       "        \n",
       "        <div class=\"card\">\n",
       "            <h2>Symptom Similarity Analysis</h2>\n",
       "            <table>\n",
       "                <tr><th>Symptom</th><th>Similarity Score</th></tr>\n",
       "                <tr><td>chest pain, shortness of breath</td><td>1.0000</td></tr><tr><td>chest pain, dyspnea, sweating</td><td>0.8684</td></tr><tr><td>abdominal pain, nausea</td><td>0.6555</td></tr><tr><td>fever, cough</td><td>0.6267</td></tr>\n",
       "            </table>\n",
       "        </div>\n",
       "        \n",
       "        <div class=\"card\">\n",
       "            <h2>Symptom Similarity Visualization</h2>\n",
       "            <div class=\"chart-container\">\n",
       "                <img src=\"data:image/png;base64,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\" alt=\"Symptom Similarity Chart\">\n",
       "            </div>\n",
       "        </div>\n",
       "        \n",
       "        <div class=\"card\">\n",
       "            <h2>Patient EHR History</h2>\n",
       "            <pre>{\n",
       "  \"previous_conditions\": {\n",
       "    \"heart_disease\": false,\n",
       "    \"hypertension\": false\n",
       "  },\n",
       "  \"encounters\": [\n",
       "    {\n",
       "      \"timestamp\": \"2025-04-18T19:03:51.194597\",\n",
       "      \"symptoms\": \"35yo male, chest pain, shortness of breath, history of hypertension\",\n",
       "      \"diagnosis\": {\n",
       "        \"diagnoses\": [\n",
       "          {\n",
       "            \"condition\": \"Myocardial Infarction\",\n",
       "            \"confidence\": 0.7\n",
       "          },\n",
       "          {\n",
       "            \"condition\": \"Pulmonary Embolism\",\n",
       "            \"confidence\": 0.6\n",
       "          }\n",
       "        ],\n",
       "        \"recommended_actions\": [\n",
       "          \"Order ECG\",\n",
       "          \"Order Troponin test\",\n",
       "          \"Consider CT pulmonary angiography\"\n",
       "        ],\n",
       "        \"retrieved_context\": [\n",
       "          \"Chest pain and shortness of breath may indicate myocardial infarction. Order ECG and troponin test.\",\n",
       "          \"Pulmonary embolism presents with sudden dyspnea and chest pain. Consider CT pulmonary angiography.\"\n",
       "        ],\n",
       "        \"patient_id\": \"patient-001\",\n",
       "        \"triage_priority\": \"Emergent\",\n",
       "        \"cardiovascular_risk\": {\n",
       "          \"risk_score\": 0,\n",
       "          \"risk_level\": \"Low\"\n",
       "        },\n",
       "        \"timestamp\": \"2025-04-18T19:03:51.194597\"\n",
       "      }\n",
       "    }\n",
       "  ]\n",
       "}</pre>\n",
       "        </div>\n",
       "    </body>\n",
       "    </html>\n",
       "    "
      ],
      "text/plain": [
       "<IPython.core.display.HTML object>"
      ]
     },
     "metadata": {},
     "output_type": "display_data"
    },
    {
     "data": {
      "text/markdown": [
       "## Raw JSON Output (Debug)"
      ],
      "text/plain": [
       "<IPython.core.display.Markdown object>"
      ]
     },
     "metadata": {},
     "output_type": "display_data"
    },
    {
     "name": "stdout",
     "output_type": "stream",
     "text": [
      "{\n",
      "  \"diagnoses\": [\n",
      "    {\n",
      "      \"condition\": \"Myocardial Infarction\",\n",
      "      \"confidence\": 0.7\n",
      "    },\n",
      "    {\n",
      "      \"condition\": \"Pulmonary Embolism\",\n",
      "      \"confidence\": 0.6\n",
      "    }\n",
      "  ],\n",
      "  \"recommended_actions\": [\n",
      "    \"Order ECG\",\n",
      "    \"Order Troponin test\",\n",
      "    \"Consider CT pulmonary angiography\"\n",
      "  ],\n",
      "  \"retrieved_context\": [\n",
      "    \"Chest pain and shortness of breath may indicate myocardial infarction. Order ECG and troponin test.\",\n",
      "    \"Pulmonary embolism presents with sudden dyspnea and chest pain. Consider CT pulmonary angiography.\"\n",
      "  ],\n",
      "  \"patient_id\": \"patient-001\",\n",
      "  \"triage_priority\": \"Emergent\",\n",
      "  \"cardiovascular_risk\": {\n",
      "    \"risk_score\": 0,\n",
      "    \"risk_level\": \"Low\"\n",
      "  },\n",
      "  \"timestamp\": \"2025-04-18T19:03:51.194597\"\n",
      "}\n"
     ]
    }
   ],
   "source": [
    "# Example usage\n",
    "patient_data = \"35yo male, chest pain, shortness of breath, history of hypertension\"\n",
    "vitals = {\"heart_rate\": 110, \"blood_pressure\": \"140/90\"}\n",
    "age = 35\n",
    "patient_id = \"patient-001\"\n",
    "language = \"Spanish\"  # Multi-language support\n",
    "\n",
    "diagnosis, html_output = process_patient_data(patient_data, vitals, age, patient_id, language)\n",
    "\n",
    "# Display results\n",
    "display(HTML(html_output))\n",
    "\n",
    "# For debugging, optionally display JSON\n",
    "display(Markdown(\"## Raw JSON Output (Debug)\"))\n",
    "print(json.dumps(diagnosis, indent=2))"
   ]
  },
  {
   "cell_type": "code",
   "execution_count": null,
   "id": "be0f9169",
   "metadata": {
    "papermill": {
     "duration": 0.006385,
     "end_time": "2025-04-18T19:03:56.031583",
     "exception": false,
     "start_time": "2025-04-18T19:03:56.025198",
     "status": "completed"
    },
    "tags": []
   },
   "outputs": [],
   "source": []
  }
 ],
 "metadata": {
  "kaggle": {
   "accelerator": "none",
   "dataSources": [],
   "dockerImageVersionId": 31012,
   "isGpuEnabled": false,
   "isInternetEnabled": true,
   "language": "python",
   "sourceType": "notebook"
  },
  "kernelspec": {
   "display_name": "Python 3",
   "language": "python",
   "name": "python3"
  },
  "language_info": {
   "codemirror_mode": {
    "name": "ipython",
    "version": 3
   },
   "file_extension": ".py",
   "mimetype": "text/x-python",
   "name": "python",
   "nbconvert_exporter": "python",
   "pygments_lexer": "ipython3",
   "version": "3.11.11"
  },
  "papermill": {
   "default_parameters": {},
   "duration": 32.073044,
   "end_time": "2025-04-18T19:03:56.759726",
   "environment_variables": {},
   "exception": null,
   "input_path": "__notebook__.ipynb",
   "output_path": "__notebook__.ipynb",
   "parameters": {},
   "start_time": "2025-04-18T19:03:24.686682",
   "version": "2.6.0"
  }
 },
 "nbformat": 4,
 "nbformat_minor": 5
}
